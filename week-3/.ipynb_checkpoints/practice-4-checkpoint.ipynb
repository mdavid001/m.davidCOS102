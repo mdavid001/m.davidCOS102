{
 "cells": [
  {
   "cell_type": "code",
   "execution_count": 8,
   "id": "b6f57307-60be-4fb8-a2b2-d6793076707d",
   "metadata": {},
   "outputs": [
    {
     "name": "stdout",
     "output_type": "stream",
     "text": [
      "('Ekiti', 750, 'Oshogbo', 250, 'Akure', 500)\n",
      "500\n",
      "('Oshogbo', 250)\n",
      "(250, 'Akure', 500)\n",
      "('Abeokuta', 300, 'Ogbomoso', 'Abeokuta', 300, 'Ogbomoso', 'Abeokuta', 300, 'Ogbomoso')\n",
      "('Ekiti', 750, 'Oshogbo', 250, 'Akure', 500, 'Abeokuta', 300, 'Ogbomoso')\n",
      "(250, 'Akure')\n"
     ]
    }
   ],
   "source": [
    "tuple = ('Ekiti', 750, 'Oshogbo', 250,'Akure',500)\n",
    "s_tuple = ('Abeokuta', 300, 'Ogbomoso')\n",
    "\n",
    "#prints the complete tuple\n",
    "print(tuple)\n",
    "\n",
    "#prints the last element of the tuple\n",
    "print(tuple[-1])\n",
    "\n",
    "#prints 3rd and 4th element of the tuple\n",
    "print(tuple[2:4])\n",
    "\n",
    "#prints elements of the tuple starting from the 4th\n",
    "print(tuple[3:])\n",
    "\n",
    "#prints the contents of the tuple twice\n",
    "print(s_tuple *3)\n",
    "\n",
    "#prints concatenated tuples\n",
    "print(tuple + s_tuple)\n",
    "\n",
    "#to see result\n",
    "print(tuple[-3:-1])\n"
   ]
  }
 ],
 "metadata": {
  "kernelspec": {
   "display_name": "Python 3 (ipykernel)",
   "language": "python",
   "name": "python3"
  },
  "language_info": {
   "codemirror_mode": {
    "name": "ipython",
    "version": 3
   },
   "file_extension": ".py",
   "mimetype": "text/x-python",
   "name": "python",
   "nbconvert_exporter": "python",
   "pygments_lexer": "ipython3",
   "version": "3.11.7"
  }
 },
 "nbformat": 4,
 "nbformat_minor": 5
}
