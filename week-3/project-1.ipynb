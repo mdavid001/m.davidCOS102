{
 "cells": [
  {
   "cell_type": "markdown",
   "id": "b20c98f4-7e4c-475c-ba6d-1826a5f8f081",
   "metadata": {},
   "source": [
    "#A - pseudocode of what happens in a store after checkout\n",
    "START\n",
    "INPUT the users address\n",
    "PRINT the prices, quantity and total invoices of goods\n",
    "IF the user removes some goods, recalculate the total price\n",
    "ELSE proceed to showing payment details\n",
    "IF payment has been received,\n",
    "PRINT Thank you for the order!\n",
    "ELSE, \n",
    "PRINT Your payment has not been acknowledged\n",
    "END"
   ]
  },
  {
   "cell_type": "markdown",
   "id": "fa7f04e7-5e5d-455e-acec-0733e5c7d391",
   "metadata": {},
   "source": [
    "#C - algorithm where two users input name and age and switch age\n",
    "START\n",
    "PRINT WELCOME! Please input your name and age\n",
    "INPUT n1 as name of user 1\n",
    "INPUT n2 as name of user 2\n",
    "INPUT a1 as age of user 1\n",
    "INPUT a2 as age of user 2\n",
    "PRINT n1, a2 (as name and age of user 1)\n",
    "PRINT n2, a1 (as name and age of user 2)\n",
    "END"
   ]
  },
  {
   "cell_type": "code",
   "execution_count": null,
   "id": "a2d0c985-1c0b-463e-8c4b-06fa284ea6d8",
   "metadata": {},
   "outputs": [],
   "source": []
  }
 ],
 "metadata": {
  "kernelspec": {
   "display_name": "Python 3 (ipykernel)",
   "language": "python",
   "name": "python3"
  },
  "language_info": {
   "codemirror_mode": {
    "name": "ipython",
    "version": 3
   },
   "file_extension": ".py",
   "mimetype": "text/x-python",
   "name": "python",
   "nbconvert_exporter": "python",
   "pygments_lexer": "ipython3",
   "version": "3.11.7"
  }
 },
 "nbformat": 4,
 "nbformat_minor": 5
}
