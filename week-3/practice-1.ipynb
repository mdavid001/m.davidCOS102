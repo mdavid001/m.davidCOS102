{
 "cells": [
  {
   "cell_type": "code",
   "execution_count": 1,
   "id": "a17c132a-a884-4263-b262-ebe92e248356",
   "metadata": {},
   "outputs": [
    {
     "name": "stdin",
     "output_type": "stream",
     "text": [
      "Enter your state of origin:  delta\n"
     ]
    },
    {
     "name": "stdout",
     "output_type": "stream",
     "text": [
      "Your state of origin is :  delta\n",
      "The first character is :  d\n",
      "The characters starting from third to fifth are :  lta\n",
      "The string starting from the third character is :  lta\n",
      "The state of origin two times deltadelta\n"
     ]
    }
   ],
   "source": [
    "str = input(\"Enter your state of origin: \")\n",
    "\n",
    "print(\"Your state of origin is : \",str)\n",
    "print(\"The first character is : \",str[0])\n",
    "print(\"The characters starting from third to fifth are : \",str[2:5])\n",
    "print(\"The string starting from the third character is : \",str[2:])\n",
    "print(\"The state of origin two times\", str*2)\n"
   ]
  },
  {
   "cell_type": "code",
   "execution_count": null,
   "id": "2546caa8-d1f8-4899-9a4b-ee625377cd6f",
   "metadata": {},
   "outputs": [],
   "source": []
  }
 ],
 "metadata": {
  "kernelspec": {
   "display_name": "Python 3 (ipykernel)",
   "language": "python",
   "name": "python3"
  },
  "language_info": {
   "codemirror_mode": {
    "name": "ipython",
    "version": 3
   },
   "file_extension": ".py",
   "mimetype": "text/x-python",
   "name": "python",
   "nbconvert_exporter": "python",
   "pygments_lexer": "ipython3",
   "version": "3.11.7"
  }
 },
 "nbformat": 4,
 "nbformat_minor": 5
}
