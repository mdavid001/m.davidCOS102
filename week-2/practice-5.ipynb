{
 "cells": [
  {
   "cell_type": "code",
   "execution_count": 3,
   "id": "e0e8cbd8-e419-4e4c-b822-47a2bdb32b13",
   "metadata": {},
   "outputs": [
    {
     "name": "stdout",
     "output_type": "stream",
     "text": [
      "False\n",
      "False\n",
      "False\n",
      "False\n",
      "True\n"
     ]
    }
   ],
   "source": [
    "#returns false as game1 is not equal to game2\n",
    "game1 = 2\n",
    "game2 = 4\n",
    "print(bool(game1 == game2))\n",
    "#or\n",
    "print(game1 == game2)\n",
    "\n",
    "#returns false as val is none\n",
    "val = None\n",
    "print(bool(val))\n",
    "\n",
    "#returns false as num is an empty sequence\n",
    "num = ()\n",
    "print(bool(num))\n",
    "\n",
    "#returns true as age is boolean\n",
    "age = True\n",
    "print(bool(age))"
   ]
  },
  {
   "cell_type": "code",
   "execution_count": null,
   "id": "71ace821-4fc8-4a95-bf7f-b42d0b7be6e6",
   "metadata": {},
   "outputs": [],
   "source": []
  }
 ],
 "metadata": {
  "kernelspec": {
   "display_name": "Python 3 (ipykernel)",
   "language": "python",
   "name": "python3"
  },
  "language_info": {
   "codemirror_mode": {
    "name": "ipython",
    "version": 3
   },
   "file_extension": ".py",
   "mimetype": "text/x-python",
   "name": "python",
   "nbconvert_exporter": "python",
   "pygments_lexer": "ipython3",
   "version": "3.11.7"
  }
 },
 "nbformat": 4,
 "nbformat_minor": 5
}
