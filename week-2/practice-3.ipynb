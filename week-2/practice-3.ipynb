{
 "cells": [
  {
   "cell_type": "code",
   "execution_count": 3,
   "id": "5fd7d9c7-1b77-48ac-a08d-cec8a6aaaf41",
   "metadata": {},
   "outputs": [
    {
     "name": "stdout",
     "output_type": "stream",
     "text": [
      "['anaconda', 786, 2.23, 'jupyter', 70.2]\n",
      "anaconda\n",
      "[786, 2.23]\n",
      "[2.23, 'jupyter', 70.2]\n",
      "[321, 'python', 321, 'python']\n",
      "['anaconda', 786, 2.23, 'jupyter', 70.2, 321, 'python']\n"
     ]
    }
   ],
   "source": [
    "list = ['anaconda', 786, 2.23, 'jupyter', 70.2]\n",
    "shortlist = [321, 'python']\n",
    "\n",
    "print(list)                    #prints complete list\n",
    "print(list[0])                 #print first element of the list\n",
    "print(list[1:3])               #print elements starting from 2nd to 3rd \n",
    "print(list[2:])                #print elements starting from 3rd element\n",
    "print(shortlist*2)             #prints list two times\n",
    "print(list + shortlist)        #prints concatenated lists"
   ]
  },
  {
   "cell_type": "code",
   "execution_count": null,
   "id": "9d50d8df-1dcb-440e-806d-1856a0371ad4",
   "metadata": {},
   "outputs": [],
   "source": []
  }
 ],
 "metadata": {
  "kernelspec": {
   "display_name": "Python 3 (ipykernel)",
   "language": "python",
   "name": "python3"
  },
  "language_info": {
   "codemirror_mode": {
    "name": "ipython",
    "version": 3
   },
   "file_extension": ".py",
   "mimetype": "text/x-python",
   "name": "python",
   "nbconvert_exporter": "python",
   "pygments_lexer": "ipython3",
   "version": "3.11.7"
  }
 },
 "nbformat": 4,
 "nbformat_minor": 5
}
