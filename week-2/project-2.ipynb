{
 "cells": [
  {
   "cell_type": "code",
   "execution_count": 10,
   "id": "305b5a33-9ad4-419e-824b-4efc0e99dae0",
   "metadata": {},
   "outputs": [
    {
     "name": "stdout",
     "output_type": "stream",
     "text": [
      "finding the root of a cubic equation in the format ax³ + bx² + cx + d = 0\n"
     ]
    },
    {
     "name": "stdin",
     "output_type": "stream",
     "text": [
      "Input your value for a 1\n",
      "Input your value for b -6\n",
      "Input your value for c 11\n",
      "Input your value for d -6\n"
     ]
    },
    {
     "name": "stdout",
     "output_type": "stream",
     "text": [
      "your equation is :1.0x³ -6.0x² 11.0x -6.0\n",
      "(0.49999999999999994-0.28867513459481287j)\n",
      "(-1.178416931916563e-17-0.19245008972987523j)\n",
      "-1.3850664308304643\n",
      "The roots of this equation are (3-5.551115123125783e-17j), (1+7.582964277521801e-17j), and (2-2.0318491543960182e-17j)\n"
     ]
    }
   ],
   "source": [
    "import math \n",
    "import cmath\n",
    "#find the roots of a cubic equation\n",
    "print(\"finding the root of a cubic equation in the format ax³ + bx² + cx + d = 0\")\n",
    "a = float(input(\"Input your value for a\"))\n",
    "b = float(input(\"Input your value for b\"))\n",
    "c = float(input(\"Input your value for c\"))\n",
    "d = float(input(\"Input your value for d\"))\n",
    "\n",
    "print(f\"your equation is :{a}x³ {b}x² {c}x {d}\")\n",
    "q = ((3 * a * c) -(b**2)) / (9 * (a**2))\n",
    "r = ((9*a*b*c) - (27 * a**2 *d )- (2 * (b**3))) / (54 * (a**3))\n",
    "s = (r + (((q**3 + r**2)))**0.5) **(1/3)\n",
    "t = (r - ((q**3 + r**2)**0.5))\n",
    "t = t ** (1/3)\n",
    "print(t)\n",
    "print(r - (((q**3 + r**2)))**0.5)\n",
    "h = -2.65712393117584 ** (1/3)\n",
    "print(h)\n",
    "\n",
    "\n",
    "x1 = (s + t) - (b/(3*a))\n",
    "x2 = -(s+t)/2 - b/(3*a) + (cmath.sqrt(-3) * (s - t))/2\n",
    "x3 = -(s+t)/2 - b/(3*a) - (cmath.sqrt(-3) * (s - t))/2\n",
    "\n",
    "print(f\"The roots of this equation are {x1}, {x2}, and {x3}\")\n"
   ]
  },
  {
   "cell_type": "code",
   "execution_count": 6,
   "id": "da535a0d-e897-49dc-a0a2-4969e72b0f4b",
   "metadata": {},
   "outputs": [
    {
     "name": "stdout",
     "output_type": "stream",
     "text": [
      "finding the root of a quadratic equation in the format ax² + bx + c = 0\n"
     ]
    },
    {
     "name": "stdin",
     "output_type": "stream",
     "text": [
      "Input your value for a 1\n",
      "Input your value for b 5\n",
      "Input your value for c 6\n"
     ]
    },
    {
     "name": "stdout",
     "output_type": "stream",
     "text": [
      "your equation is :1.0x² + 5.0x + 6.0\n",
      "the roots of your equation are -2.0 and -3.0\n"
     ]
    }
   ],
   "source": [
    "#find the roots of a quadratic equation\n",
    "print(\"finding the root of a quadratic equation in the format ax² + bx + c = 0\")\n",
    "a = float(input(\"Input your value for a\"))\n",
    "b = float(input(\"Input your value for b\"))\n",
    "c = float(input(\"Input your value for c\"))\n",
    "\n",
    "print(f\"your equation is :{a}x² {b}x {c}\")\n",
    "D = (b**2 - 4*a*c) **0.5\n",
    "r1 = (-b + D)/2*a\n",
    "r2 = (-b - D)/2*a\n",
    "\n",
    "print(f\"the roots of your equation are {r1} and {r2}\")"
   ]
  },
  {
   "cell_type": "markdown",
   "id": "f1f8bc29-9f5b-4b71-9b6b-a6c223de34e7",
   "metadata": {},
   "source": [
    "START \n",
    "INPUT a\n",
    "INPUT b\n",
    "INPUT c\n",
    "COMPUTE D = (b^2 -4ac) ^0.5\n",
    "COMPUTE r1 =( -b + D) /2a\n",
    "COMPUTE r2 =( -b - D) /2a\n",
    "PRINT r1 \n",
    "PRINT r2\n",
    "END"
   ]
  }
 ],
 "metadata": {
  "kernelspec": {
   "display_name": "Python 3 (ipykernel)",
   "language": "python",
   "name": "python3"
  },
  "language_info": {
   "codemirror_mode": {
    "name": "ipython",
    "version": 3
   },
   "file_extension": ".py",
   "mimetype": "text/x-python",
   "name": "python",
   "nbconvert_exporter": "python",
   "pygments_lexer": "ipython3",
   "version": "3.11.7"
  }
 },
 "nbformat": 4,
 "nbformat_minor": 5
}
