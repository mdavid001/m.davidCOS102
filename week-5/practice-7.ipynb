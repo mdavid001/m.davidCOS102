{
 "cells": [
  {
   "cell_type": "code",
   "execution_count": 8,
   "id": "decd4f94-60aa-48f1-8079-84cf7427b8ec",
   "metadata": {},
   "outputs": [
    {
     "name": "stdout",
     "output_type": "stream",
     "text": [
      "output is: \n",
      "10\n",
      "output is: \n",
      "70\n",
      "60\n"
     ]
    }
   ],
   "source": [
    "def printinfo (arg1, *vartuple):\n",
    "    #this is test\n",
    "    print('output is: ')\n",
    "    print(arg1)\n",
    "    for var in vartuple:\n",
    "        print(var)\n",
    "        return;\n",
    "printinfo(10)\n",
    "printinfo(70,60,50)"
   ]
  },
  {
   "cell_type": "code",
   "execution_count": null,
   "id": "f814bc37-0ca5-43ab-8b91-7d16b39f54bc",
   "metadata": {},
   "outputs": [],
   "source": []
  }
 ],
 "metadata": {
  "kernelspec": {
   "display_name": "Python 3 (ipykernel)",
   "language": "python",
   "name": "python3"
  },
  "language_info": {
   "codemirror_mode": {
    "name": "ipython",
    "version": 3
   },
   "file_extension": ".py",
   "mimetype": "text/x-python",
   "name": "python",
   "nbconvert_exporter": "python",
   "pygments_lexer": "ipython3",
   "version": "3.11.7"
  }
 },
 "nbformat": 4,
 "nbformat_minor": 5
}
