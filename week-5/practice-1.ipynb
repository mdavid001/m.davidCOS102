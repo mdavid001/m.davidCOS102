{
 "cells": [
  {
   "cell_type": "code",
   "execution_count": 3,
   "id": "3518fd30-f1bd-4bfd-a28d-ca6a38c57a71",
   "metadata": {},
   "outputs": [
    {
     "name": "stdout",
     "output_type": "stream",
     "text": [
      "I'm first call to user defined function\n",
      "Again second call to same function\n"
     ]
    }
   ],
   "source": [
    "def printme(str):\n",
    "    #this is a print function\n",
    "    print(str)\n",
    "    return;\n",
    "printme(\"I'm first call to user defined function\")\n",
    "printme(\"Again second call to same function\")"
   ]
  },
  {
   "cell_type": "code",
   "execution_count": null,
   "id": "07d6007a-58b5-4850-b0df-4820e379f06e",
   "metadata": {},
   "outputs": [],
   "source": []
  }
 ],
 "metadata": {
  "kernelspec": {
   "display_name": "Python 3 (ipykernel)",
   "language": "python",
   "name": "python3"
  },
  "language_info": {
   "codemirror_mode": {
    "name": "ipython",
    "version": 3
   },
   "file_extension": ".py",
   "mimetype": "text/x-python",
   "name": "python",
   "nbconvert_exporter": "python",
   "pygments_lexer": "ipython3",
   "version": "3.11.7"
  }
 },
 "nbformat": 4,
 "nbformat_minor": 5
}
