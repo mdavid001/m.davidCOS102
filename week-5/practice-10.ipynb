{
 "cells": [
  {
   "cell_type": "code",
   "execution_count": null,
   "id": "8ac5415c-ea7c-4be1-9516-f753400ed03d",
   "metadata": {
    "scrolled": true
   },
   "outputs": [],
   "source": [
    "import tkinter as tk\n",
    "from tkinter import messagebox\n",
    "\n",
    "#handling button click event\n",
    "def button_click():\n",
    "    #print('button clicked')\n",
    "    \n",
    "    #show an information message box\n",
    "    messagebox.showinfo(\"Info\", \"WELCOME TO COS102 GUI APP\\n\")\n",
    "\n",
    "    #ask for user confirmation\n",
    "    result = messagebox.askyesno(\"confirmation\",\"do you want to continue?\")\n",
    "\n",
    "#create the main window\n",
    "root = tk.Tk()\n",
    "root.title('home page')\n",
    "root.geometry('300x100')\n",
    "\n",
    "#add a label widget\n",
    "label = tk.Label(root, text = 'hello friend! \\n')\n",
    "label.pack()\n",
    "\n",
    "#add a button widget\n",
    "button = tk.Button(root, text = 'click me!', command=button_click)\n",
    "button.pack()\n",
    "\n",
    "#styling the button widget\n",
    "button.config(fg = 'red', bg = 'yellow')\n",
    "\n",
    "#start the event loop\n",
    "root.mainloop()"
   ]
  }
 ],
 "metadata": {
  "kernelspec": {
   "display_name": "Python 3 (ipykernel)",
   "language": "python",
   "name": "python3"
  },
  "language_info": {
   "codemirror_mode": {
    "name": "ipython",
    "version": 3
   },
   "file_extension": ".py",
   "mimetype": "text/x-python",
   "name": "python",
   "nbconvert_exporter": "python",
   "pygments_lexer": "ipython3",
   "version": "3.11.7"
  }
 },
 "nbformat": 4,
 "nbformat_minor": 5
}
