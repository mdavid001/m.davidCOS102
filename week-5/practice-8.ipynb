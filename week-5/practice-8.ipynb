{
 "cells": [
  {
   "cell_type": "code",
   "execution_count": 2,
   "id": "6e8294c9-bdcd-407a-a49e-fbbb86a5c383",
   "metadata": {},
   "outputs": [
    {
     "name": "stdout",
     "output_type": "stream",
     "text": [
      "inside the function local total: 30\n",
      "outside the function local total: 50\n"
     ]
    }
   ],
   "source": [
    "total = 50 #this is a global variable\n",
    "def sum(arg1, arg2):\n",
    "    #add both parameters\n",
    "    total = arg1 + arg2\n",
    "    print('inside the function local total:',total)\n",
    "    return total\n",
    "#now you can call sum function\n",
    "sum(10,20)\n",
    "print('outside the function local total:',total)"
   ]
  },
  {
   "cell_type": "code",
   "execution_count": null,
   "id": "981ca4e0-fe33-408d-a4b9-db181917259f",
   "metadata": {},
   "outputs": [],
   "source": []
  }
 ],
 "metadata": {
  "kernelspec": {
   "display_name": "Python 3 (ipykernel)",
   "language": "python",
   "name": "python3"
  },
  "language_info": {
   "codemirror_mode": {
    "name": "ipython",
    "version": 3
   },
   "file_extension": ".py",
   "mimetype": "text/x-python",
   "name": "python",
   "nbconvert_exporter": "python",
   "pygments_lexer": "ipython3",
   "version": "3.11.7"
  }
 },
 "nbformat": 4,
 "nbformat_minor": 5
}
