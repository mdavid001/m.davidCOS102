{
 "cells": [
  {
   "cell_type": "code",
   "execution_count": 10,
   "id": "96352c5d-dbaf-4e2e-a9c0-e84123a7798f",
   "metadata": {},
   "outputs": [],
   "source": [
    "import tkinter as tk\n",
    "from tkinter import messagebox\n",
    "from PIL import Image, ImageTk\n",
    "\n",
    "def welcomeMessage(username):\n",
    "    #create a tkinter window\n",
    "    window = tk.Toplevel(root)\n",
    "    window.title(\"Admin Box\")\n",
    "    window.geometry('500x200')\n",
    "    \n",
    "    label_1 = tk.Label(window, text=f'Welcome {username}\\n')\n",
    "    label_1.pack()\n",
    "    label_2 = tk.Label(window, text='This is python GUI with Tkinter')\n",
    "    label_2.pack()\n",
    "    \n",
    "    #run the tkinter event loop\n",
    "    root.mainloop()\n",
    "\n",
    "def submit():\n",
    "    username = username_entry.get()\n",
    "    password = password_entry.get()\n",
    "    \n",
    "    if username == 'Mary' and password == 'cos102':\n",
    "        welcomeMessage(username)\n",
    "    else:\n",
    "        messagebox.showerror('Login','Invalid username or password')\n",
    "\n",
    "#create main window\n",
    "root = tk.Tk()\n",
    "root.title('Login form')\n",
    "root.geometry('500x200')\n",
    "\n",
    "#create username label and entry\n",
    "username_label = tk.Label(root, text = 'Username')\n",
    "username_label.pack()\n",
    "username_entry = tk.Entry(root)\n",
    "username_entry.pack()\n",
    "\n",
    "#create password label and entry\n",
    "password_label = tk.Label(root, text = 'Password')\n",
    "password_label.pack()\n",
    "password_entry = tk.Entry(root, show='*')\n",
    "password_entry.pack()\n",
    "\n",
    "#create submit button\n",
    "submit_button = tk.Button(root, text = 'Submit', command=submit)\n",
    "submit_button.pack()\n",
    "\n",
    "#styling the button widget\n",
    "submit_button.config(fg = 'black', bg = 'pink')\n",
    "\n",
    "#run the main event loop\n",
    "root.mainloop()\n",
    "    "
   ]
  }
 ],
 "metadata": {
  "kernelspec": {
   "display_name": "Python 3 (ipykernel)",
   "language": "python",
   "name": "python3"
  },
  "language_info": {
   "codemirror_mode": {
    "name": "ipython",
    "version": 3
   },
   "file_extension": ".py",
   "mimetype": "text/x-python",
   "name": "python",
   "nbconvert_exporter": "python",
   "pygments_lexer": "ipython3",
   "version": "3.11.7"
  }
 },
 "nbformat": 4,
 "nbformat_minor": 5
}
