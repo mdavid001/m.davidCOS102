{
 "cells": [
  {
   "cell_type": "code",
   "execution_count": 1,
   "id": "bb508e11-b22b-4af8-9f27-aa5a13081ca9",
   "metadata": {},
   "outputs": [
    {
     "name": "stdout",
     "output_type": "stream",
     "text": [
      "Values inside the function [1, 2, 3, 4]\n",
      "Values outside the function [10, 20, 30]\n"
     ]
    }
   ],
   "source": [
    "def changeme(mylist):\n",
    "    #this changes a passed list\n",
    "    mylist=[1,2,3,4]\n",
    "    print(\"Values inside the function\",mylist)\n",
    "    return;\n",
    "mylist = [10,20,30]\n",
    "changeme(mylist)\n",
    "print(\"Values outside the function\",mylist)"
   ]
  },
  {
   "cell_type": "code",
   "execution_count": null,
   "id": "6e67e8db-8bbe-4d6e-98d9-f7a57af09903",
   "metadata": {},
   "outputs": [],
   "source": []
  }
 ],
 "metadata": {
  "kernelspec": {
   "display_name": "Python 3 (ipykernel)",
   "language": "python",
   "name": "python3"
  },
  "language_info": {
   "codemirror_mode": {
    "name": "ipython",
    "version": 3
   },
   "file_extension": ".py",
   "mimetype": "text/x-python",
   "name": "python",
   "nbconvert_exporter": "python",
   "pygments_lexer": "ipython3",
   "version": "3.11.7"
  }
 },
 "nbformat": 4,
 "nbformat_minor": 5
}
