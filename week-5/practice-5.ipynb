{
 "cells": [
  {
   "cell_type": "code",
   "execution_count": 3,
   "id": "555d8928-dbbc-4866-a761-ac67e5b7f4b4",
   "metadata": {},
   "outputs": [
    {
     "name": "stdout",
     "output_type": "stream",
     "text": [
      "name:  miki\n",
      "age:  50\n"
     ]
    }
   ],
   "source": [
    "def printinfo( name,age):\n",
    "    #test function\n",
    "    print(\"name: \",name)\n",
    "    print(\"age: \",age)\n",
    "    return;\n",
    "printinfo(age = 50, name = \"miki\")"
   ]
  },
  {
   "cell_type": "code",
   "execution_count": null,
   "id": "8e5f3bc1-9e2d-4c74-8e13-307d9be080c8",
   "metadata": {},
   "outputs": [],
   "source": []
  }
 ],
 "metadata": {
  "kernelspec": {
   "display_name": "Python 3 (ipykernel)",
   "language": "python",
   "name": "python3"
  },
  "language_info": {
   "codemirror_mode": {
    "name": "ipython",
    "version": 3
   },
   "file_extension": ".py",
   "mimetype": "text/x-python",
   "name": "python",
   "nbconvert_exporter": "python",
   "pygments_lexer": "ipython3",
   "version": "3.11.7"
  }
 },
 "nbformat": 4,
 "nbformat_minor": 5
}
