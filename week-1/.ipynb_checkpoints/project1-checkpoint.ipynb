{
 "cells": [
  {
   "cell_type": "code",
   "execution_count": null,
   "id": "f5d6f34b-90ac-4dbf-8a51-466be3e823d1",
   "metadata": {},
   "outputs": [],
   "source": [
    "# simple interest\n",
    "p = input('What is your principal')\n",
    "p = int(p)\n",
    "r = input('What is your rate')\n",
    "r = int(r)\n",
    "t = input('What is your time in years')\n",
    "t = int(t)\n",
    "\n",
    "si = (p*r*t) / 100\n",
    "a = p + si\n",
    "print(a)"
   ]
  },
  {
   "cell_type": "code",
   "execution_count": 4,
   "id": "1d333222-ef4a-4251-981e-6a1036b96f70",
   "metadata": {},
   "outputs": [
    {
     "name": "stdin",
     "output_type": "stream",
     "text": [
      "What is your principal 100\n",
      "What is your rate 10\n",
      "What is your time in years 2\n",
      "What is your n 5\n"
     ]
    },
    {
     "name": "stdout",
     "output_type": "stream",
     "text": [
      "5904900.0\n"
     ]
    }
   ],
   "source": [
    "# compound interest\n",
    "p = input('What is your principal')\n",
    "p = int(p)\n",
    "r = input('What is your rate')\n",
    "r = int(r)\n",
    "t = input('What is your time in years')\n",
    "t = int(t)\n",
    "n = input('What is your n')\n",
    "n = int(n)\n",
    "\n",
    "a = p*(1+(r/n))**(n*t)\n",
    "print(a)"
   ]
  },
  {
   "cell_type": "code",
   "execution_count": 14,
   "id": "eda184da-efae-448a-8e54-46cd7aad49b0",
   "metadata": {},
   "outputs": [
    {
     "name": "stdout",
     "output_type": "stream",
     "text": [
      "41333600.0\n"
     ]
    }
   ],
   "source": [
    "# annuity plan\n",
    "p = input('What is your principal')\n",
    "p = int(p)\n",
    "r = input('What is your rate')\n",
    "r = int(r)\n",
    "t = input('What is your time in years')\n",
    "t = int(t)\n",
    "n = input('What is your m')\n",
    "n = int(n)\n",
    "n = input('What is your m')\n",
    "m = int(m)\n",
    "\n",
    "a = p*m*t * (((1 + (r/n))**(n*t) - 1) / (r/n))\n",
    "print(a)"
   ]
  },
  {
   "cell_type": "markdown",
   "id": "486319c8-5fbc-4660-b8c5-fa6091873673",
   "metadata": {},
   "source": [
    "pseudocode for simple interest\n",
    "\n",
    "START\n",
    "INPUT p\n",
    "INPUT r\n",
    "INPUT t\n",
    "COMPUTE si = (p * r * t)/100\n",
    "COMPUTE a = si + p\n",
    "PRINT a\n",
    "END"
   ]
  },
  {
   "cell_type": "markdown",
   "id": "adf9dda8-655c-4d36-94f8-debcb9df704d",
   "metadata": {},
   "source": [
    "pseudocode for compound interest\n",
    "\n",
    "START\n",
    "INPUT p\n",
    "INPUT r\n",
    "INPUT t\n",
    "INPUT n\n",
    "COMPUTE a = p*(1+(r/n))**(n*t)\n",
    "PRINT a\n",
    "END"
   ]
  },
  {
   "cell_type": "markdown",
   "id": "3dd0b4ea-afc1-44db-8a52-9c9cea6994cc",
   "metadata": {},
   "source": [
    "pseudocode for annuity plan\n",
    "\n",
    "START\n",
    "INPUT p\n",
    "INPUT r\n",
    "INPUT t\n",
    "INPUT n\n",
    "INPUT m\n",
    "COMPUTE a = p*m*t * (((1 + (r/n))**(n*t) - 1) / (r/n))\n",
    "PRINT a\n",
    "END"
   ]
  }
 ],
 "metadata": {
  "kernelspec": {
   "display_name": "Python 3 (ipykernel)",
   "language": "python",
   "name": "python3"
  },
  "language_info": {
   "codemirror_mode": {
    "name": "ipython",
    "version": 3
   },
   "file_extension": ".py",
   "mimetype": "text/x-python",
   "name": "python",
   "nbconvert_exporter": "python",
   "pygments_lexer": "ipython3",
   "version": "3.11.7"
  }
 },
 "nbformat": 4,
 "nbformat_minor": 5
}
