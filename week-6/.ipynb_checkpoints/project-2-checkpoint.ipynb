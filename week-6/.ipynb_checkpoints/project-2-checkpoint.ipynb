{
 "cells": [
  {
   "cell_type": "code",
   "execution_count": 40,
   "id": "b95341d3-71ee-461a-8645-dae45f0ec2e6",
   "metadata": {},
   "outputs": [
    {
     "name": "stdin",
     "output_type": "stream",
     "text": [
      "What is your name? :  ada\n",
      "What course did you apply for? :  mass communication\n",
      "What was your JAMB score? :  200\n",
      "Did you pass the interview?/n(answer yes or no) :  yes\n",
      "Did you have at least a credit in Mathematics,English,CRS/IRS,Government and Literature?\n",
      "(answer yes or no) : yes\n"
     ]
    },
    {
     "name": "stdout",
     "output_type": "stream",
     "text": [
      "We regret to inform you that you have not been admitted\n"
     ]
    }
   ],
   "source": [
    "admitted = []\n",
    "notadmitted = []\n",
    "\n",
    "def csc():\n",
    "    global d\n",
    "    d = input('Did you have at least a credit in Mathematics,English,Physics,Chemistry and Further Mathematics?\\n(answer yes or no) : ')\n",
    "    if c>=250 and d.lower() == 'yes' and f.lower() == 'yes' :\n",
    "        admitted = [a,b,c,d,f]\n",
    "        print(admitted)\n",
    "        print('YOU HAVE BEEN ADMITTED, HURAYY!!')\n",
    "    else: \n",
    "        notadmitted=[a,b,c,d,f]\n",
    "        print('We regret to inform you that you have not been admitted.')\n",
    "    \n",
    "def mcm():\n",
    "    global e\n",
    "    e = input('Did you have at least a credit in Mathematics,English,CRS/IRS,Government and Literature?\\n(answer yes or no) :')\n",
    "    if c>=230 and e.lower() == 'yes' and f.lower() == 'yes' :\n",
    "        admitted = [a,b,c,e,f]\n",
    "        print(admitted)\n",
    "        print('YOU HAVE BEEN ADMITTED, HURAYY!!')\n",
    "    else: \n",
    "        notadmitted=[a,b,c,e,f]\n",
    "        print('We regret to inform you that you have not been admitted.')\n",
    "        \n",
    "a = input('What is your name? : ')\n",
    "b = input('What course did you apply for? : ')\n",
    "c = int(input('What was your JAMB score? : '))\n",
    "f = input('Did you pass the interview?/n(answer yes or no) : ')\n",
    "if b.lower() == 'computer science':\n",
    "    csc()\n",
    "if b.lower() == 'mass communication':\n",
    "    mcm()\n",
    "if b.lower() !='computer science' and b.lower() !='mass communication':\n",
    "    print('The only courses available right now are Computer Science and Mass Communication.')\n"
   ]
  }
 ],
 "metadata": {
  "kernelspec": {
   "display_name": "Python 3 (ipykernel)",
   "language": "python",
   "name": "python3"
  },
  "language_info": {
   "codemirror_mode": {
    "name": "ipython",
    "version": 3
   },
   "file_extension": ".py",
   "mimetype": "text/x-python",
   "name": "python",
   "nbconvert_exporter": "python",
   "pygments_lexer": "ipython3",
   "version": "3.11.7"
  }
 },
 "nbformat": 4,
 "nbformat_minor": 5
}
