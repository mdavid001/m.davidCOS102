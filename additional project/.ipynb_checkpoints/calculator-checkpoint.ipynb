{
 "cells": [
  {
   "cell_type": "code",
   "execution_count": 16,
   "id": "c27720aa-3fd7-47be-a302-f2956e6f917c",
   "metadata": {},
   "outputs": [],
   "source": [
    "import tkinter as tk\n",
    "from tkinter import messagebox\n",
    "\n",
    "root = tk.Tk()\n",
    "root.title('Calculator')\n",
    "root.geometry('400x500')\n",
    "root.config(bg='white')\n",
    "button1=tk.Button(root,text='1',bg='blue',fg='white')\n",
    "button1.place()\n",
    "button2=tk.Button(root,text='2',bg='blue',fg='white')\n",
    "button2.place()\n",
    "button3=tk.Button(root,text='3',bg='blue',fg='white')\n",
    "button3.place()\n",
    "button4=tk.Button(root,text='4',bg='blue',fg='white')\n",
    "button4.place()\n",
    "button5=tk.Button(root,text='5',bg='blue',fg='white')\n",
    "button5.place()\n",
    "button6=tk.Button(root,text='6',bg='blue',fg='white')\n",
    "button6.place()\n",
    "button7=tk.Button(root,text='7',bg='blue',fg='white')\n",
    "button7.place()\n",
    "button8=tk.Button(root,text='8',bg='blue',fg='white')\n",
    "button8.place()\n",
    "button9=tk.Button(root,text='9',bg='blue',fg='white')\n",
    "button9.place()\n",
    "button0=tk.Button(root,text='0',bg='blue',fg='white')\n",
    "button0.place()\n",
    "buttonx=tk.Button(root,text='x',bg='blue',fg='white')\n",
    "buttonx.place()\n",
    "buttonplus=tk.Button(root,text='+',bg='blue',fg='white')\n",
    "buttonplus.place()\n",
    "buttonm=tk.Button(root,text='-',bg='blue',fg='white')\n",
    "buttonm.place()\n",
    "buttond=tk.Button(root,text='/',bg='blue',fg='white')\n",
    "buttond.place()\n",
    "buttonc=tk.Button(root,text='CLR',bg='blue',fg='white')\n",
    "buttonc.place()\n",
    "\n",
    "root.mainloop()"
   ]
  }
 ],
 "metadata": {
  "kernelspec": {
   "display_name": "Python 3 (ipykernel)",
   "language": "python",
   "name": "python3"
  },
  "language_info": {
   "codemirror_mode": {
    "name": "ipython",
    "version": 3
   },
   "file_extension": ".py",
   "mimetype": "text/x-python",
   "name": "python",
   "nbconvert_exporter": "python",
   "pygments_lexer": "ipython3",
   "version": "3.11.7"
  }
 },
 "nbformat": 4,
 "nbformat_minor": 5
}
