{
 "cells": [
  {
   "cell_type": "code",
   "execution_count": 45,
   "id": "9e9d0d6a-4ab3-4bcf-a6e0-46b61c8191dd",
   "metadata": {},
   "outputs": [
    {
     "name": "stdout",
     "output_type": "stream",
     "text": [
      "INFORMATION OF FEMALE STUDENTS IN A GIVEN CLASS\n",
      "NAME        AGE     HEIGHT    SCORES\n",
      "1.Evelyn    17        5.5       80\n",
      "2.Jessica   16        6.0       85  \n",
      "3.Somto     17        5.4       70\n",
      "4.Edith     18        5.9       60 \n",
      "5.Liza      16        5.6       76\n",
      "6.Madonna   18        5.5       66\n",
      "7. Waje     17        6.1       87\n",
      "8.Tola      20        6.0       95\n",
      "9.Aisha     19        5.7       50\n",
      "10.Latifa   17        5.5       49\n"
     ]
    }
   ],
   "source": [
    "print('INFORMATION OF FEMALE STUDENTS IN A GIVEN CLASS')\n",
    "\n",
    "print(\"NAME        AGE     HEIGHT    SCORES\")\n",
    "girls = {'1.Evelyn': '   17        5.5       80',\n",
    "        '2.Jessica': '  16        6.0       85  ',\n",
    "        '3.Somto' : '    17        5.4       70',\n",
    "         '4.Edith' : '    18        5.9       60 ',\n",
    "         '5.Liza': '     16        5.6       76',\n",
    "         '6.Madonna': '  18        5.5       66',\n",
    "         '7. Waje': '    17        6.1       87',\n",
    "         '8.Tola': '     20        6.0       95',\n",
    "         '9.Aisha': '    19        5.7       50',\n",
    "         '10.Latifa':'  17        5.5       49'\n",
    "        }\n",
    "for x in girls:\n",
    "    print(x , girls[x])"
   ]
  },
  {
   "cell_type": "code",
   "execution_count": 66,
   "id": "4d7b8bf6-5072-4f0a-a049-98db56f0a039",
   "metadata": {},
   "outputs": [
    {
     "name": "stdout",
     "output_type": "stream",
     "text": [
      "INFORMATION OF FEMALE STUDENTS IN A GIVEN CLASS\n",
      "NAME         AGE     HEIGHT    SCORES\n",
      "1.Chinedu    19       5.7       74\n",
      "2.Liam       16       5.9       87\n",
      "3.Wale       18       5.8       75 \n",
      "4.Gbenga     17       6.1       68\n",
      "5.Abiola     20       5.9       66\n",
      "6.Kola       19       5.5       78\n",
      "7.Kunle      16       6.1       87\n",
      "8.George     18       5.4       98\n",
      "9.Thomas     17       5.8       54\n",
      "10.Wesley    19       5.7       60\n"
     ]
    }
   ],
   "source": [
    "print('INFORMATION OF FEMALE STUDENTS IN A GIVEN CLASS')\n",
    "\n",
    "print(\"NAME         AGE     HEIGHT    SCORES\")\n",
    "\n",
    "boys = { '1.Chinedu': '   19       5.7       74',\n",
    "        '2.Liam': '      16       5.9       87',\n",
    "        '3.Wale': '      18       5.8       75 ',\n",
    "        '4.Gbenga': '    17       6.1       68',\n",
    "        '5.Abiola': '    20       5.9       66',\n",
    "        '6.Kola': '      19       5.5       78',\n",
    "        '7.Kunle': '     16       6.1       87',\n",
    "        '8.George': '    18       5.4       98',\n",
    "        '9.Thomas': '    17       5.8       54',\n",
    "        '10.Wesley': '   19       5.7       60'\n",
    "    }\n",
    "for x in boys:\n",
    "    print(x , boys[x])"
   ]
  },
  {
   "cell_type": "code",
   "execution_count": null,
   "id": "41d75146-6098-4167-ae52-36b4a9f8a7f6",
   "metadata": {},
   "outputs": [],
   "source": []
  }
 ],
 "metadata": {
  "kernelspec": {
   "display_name": "Python 3 (ipykernel)",
   "language": "python",
   "name": "python3"
  },
  "language_info": {
   "codemirror_mode": {
    "name": "ipython",
    "version": 3
   },
   "file_extension": ".py",
   "mimetype": "text/x-python",
   "name": "python",
   "nbconvert_exporter": "python",
   "pygments_lexer": "ipython3",
   "version": "3.11.7"
  }
 },
 "nbformat": 4,
 "nbformat_minor": 5
}
