{
 "cells": [
  {
   "cell_type": "code",
   "execution_count": 1,
   "id": "38d2f767-1184-43dd-8ab7-db03d62ffc29",
   "metadata": {},
   "outputs": [
    {
     "name": "stdin",
     "output_type": "stream",
     "text": [
      "Enter name of city 1 :  lagos\n",
      "Enter name of city 2 :  abuja\n"
     ]
    },
    {
     "name": "stdout",
     "output_type": "stream",
     "text": [
      "The name of city 1 after swapping is abuja\n",
      "The name of city 2 after swapping is lagos\n"
     ]
    }
   ],
   "source": [
    "#python program to swap two cities\n",
    "\n",
    "#to take inputs from the user\n",
    "city_1 = input('Enter name of city 1 : ')\n",
    "city_2 = input('Enter name of city 2 : ')\n",
    "\n",
    "#create a temporary variable and swap the cities\n",
    "temp = city_1\n",
    "city_1 = city_2\n",
    "city_2 = temp\n",
    "\n",
    "print(f\"The name of city 1 after swapping is {city_1}\")\n",
    "print(f\"The name of city 2 after swapping is {city_2}\")"
   ]
  },
  {
   "cell_type": "code",
   "execution_count": null,
   "id": "e622aaf0-c877-4b44-ad0d-ca004ebb7291",
   "metadata": {},
   "outputs": [],
   "source": []
  }
 ],
 "metadata": {
  "kernelspec": {
   "display_name": "Python 3 (ipykernel)",
   "language": "python",
   "name": "python3"
  },
  "language_info": {
   "codemirror_mode": {
    "name": "ipython",
    "version": 3
   },
   "file_extension": ".py",
   "mimetype": "text/x-python",
   "name": "python",
   "nbconvert_exporter": "python",
   "pygments_lexer": "ipython3",
   "version": "3.11.7"
  }
 },
 "nbformat": 4,
 "nbformat_minor": 5
}
