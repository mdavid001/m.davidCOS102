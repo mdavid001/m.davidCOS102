{
 "cells": [
  {
   "cell_type": "code",
   "execution_count": 11,
   "id": "cb15b8b3-18ce-4b75-8f23-cd90daf1f611",
   "metadata": {},
   "outputs": [
    {
     "name": "stdout",
     "output_type": "stream",
     "text": [
      "WELCOME TO IZIFIN TECH\n"
     ]
    },
    {
     "name": "stdin",
     "output_type": "stream",
     "text": [
      "Enter your number of years of experience :  5\n",
      "Enter your age :  55\n"
     ]
    }
   ],
   "source": [
    "print('WELCOME TO IZIFIN TECH')\n",
    "\n",
    "years = float(input(\"Enter your number of years of experience : \"))\n",
    "age = float(input('Enter your age : '))\n",
    "\n",
    "if years > 25 and age >= 55:\n",
    "    print('Your Annual Tax Revenue(ATR) is N5,600,000.')\n",
    "elif years > 20 and age >= 45:\n",
    "    print('Your Annual Tax Revenue(ATR) is N4,480,000.')\n",
    "elif years > 10 and age >= 35:\n",
    "    print('Your Annual Tax Revenue(ATR) is N1,500,000.')  \n",
    "elif years < 10 and age < 35:\n",
    "    print('Your Annual Tax Revenue(ATR) is N550,000.')"
   ]
  },
  {
   "cell_type": "code",
   "execution_count": null,
   "id": "0595f61b-4b2a-4ffd-a5db-a9635e4f1937",
   "metadata": {},
   "outputs": [],
   "source": []
  }
 ],
 "metadata": {
  "kernelspec": {
   "display_name": "Python 3 (ipykernel)",
   "language": "python",
   "name": "python3"
  },
  "language_info": {
   "codemirror_mode": {
    "name": "ipython",
    "version": 3
   },
   "file_extension": ".py",
   "mimetype": "text/x-python",
   "name": "python",
   "nbconvert_exporter": "python",
   "pygments_lexer": "ipython3",
   "version": "3.11.7"
  }
 },
 "nbformat": 4,
 "nbformat_minor": 5
}
